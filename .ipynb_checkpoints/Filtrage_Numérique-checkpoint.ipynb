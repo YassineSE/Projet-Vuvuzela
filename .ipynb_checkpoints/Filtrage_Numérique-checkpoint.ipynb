{
 "cells": [
  {
   "cell_type": "markdown",
   "id": "f62270f2",
   "metadata": {},
   "source": [
    "# Filtage numérique avec Python\n",
    "\n",
    "**Dans cette partie du projet on s'intéresse au filtrage numérique (avec python) du son donné**\n"
   ]
  },
  {
   "cell_type": "code",
   "execution_count": null,
   "id": "46e9e3e0",
   "metadata": {},
   "outputs": [],
   "source": []
  }
 ],
 "metadata": {
  "kernelspec": {
   "display_name": "Python 3 (ipykernel)",
   "language": "python",
   "name": "python3"
  },
  "language_info": {
   "codemirror_mode": {
    "name": "ipython",
    "version": 3
   },
   "file_extension": ".py",
   "mimetype": "text/x-python",
   "name": "python",
   "nbconvert_exporter": "python",
   "pygments_lexer": "ipython3",
   "version": "3.9.13"
  }
 },
 "nbformat": 4,
 "nbformat_minor": 5
}
